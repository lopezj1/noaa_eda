{
 "cells": [
  {
   "cell_type": "markdown",
   "metadata": {},
   "source": [
    "##### To-Do\n",
    "- inspect tables\n",
    "  - column names\n",
    "- create dbt project in dbt folder\n",
    "  - create new db for datawarehouse -> noaa_dw\n",
    "- populate README"
   ]
  },
  {
   "cell_type": "code",
   "execution_count": 1,
   "metadata": {},
   "outputs": [],
   "source": [
    "import duckdb\n",
    "import requests\n",
    "from pathlib import Path\n",
    "import pandas as pd\n",
    "from io import BytesIO\n",
    "from zipfile import ZipFile, is_zipfile\n",
    "import os, shutil"
   ]
  },
  {
   "cell_type": "code",
   "execution_count": 2,
   "metadata": {},
   "outputs": [],
   "source": [
    "%load_ext sql\n",
    "conn = duckdb.connect('../duckdb/noaa_db.duckdb') #create persistent db\n",
    "%sql conn --alias duckdb"
   ]
  },
  {
   "cell_type": "code",
   "execution_count": 3,
   "metadata": {},
   "outputs": [],
   "source": [
    "#Duckdb Config Changes\n",
    "%config SqlMagic.autopandas = True\n",
    "%config SqlMagic.feedback = False\n",
    "%config SqlMagic.displaycon = False"
   ]
  },
  {
   "cell_type": "markdown",
   "metadata": {},
   "source": [
    "## Functions"
   ]
  },
  {
   "cell_type": "code",
   "execution_count": 4,
   "metadata": {},
   "outputs": [],
   "source": [
    "def fetch_folders(base_url: str) -> list:\n",
    "    \"\"\"Get list of zip folders containing NOAA data\"\"\"\n",
    "\n",
    "    html = requests.get(base_url).content\n",
    "    df_list = pd.read_html(html)\n",
    "    df = df_list[-1]\n",
    "    lszip = df[df.Name.str.endswith(\".zip\", na=False)][\"Name\"].tolist()\n",
    "\n",
    "    return lszip"
   ]
  },
  {
   "cell_type": "code",
   "execution_count": 5,
   "metadata": {},
   "outputs": [],
   "source": [
    "def unzip_folder(lszip: list) -> dict:\n",
    "    \"\"\"Unzip folder and return list of filenames and list of file content\"\"\"\n",
    "\n",
    "    lsfilename = []\n",
    "    lsfile = []\n",
    "    \n",
    "    for z in lszip:\n",
    "        folder_url = f\"{base_url[:-1]}/{z}\"\n",
    "        r = requests.get(folder_url)\n",
    "        zipbytes = BytesIO(r.content)\n",
    "        if is_zipfile(zipbytes):\n",
    "            with ZipFile(zipbytes, \"r\") as myzip:\n",
    "                for contentfilename in myzip.namelist():\n",
    "                    contentfile = myzip.read(contentfilename)\n",
    "\n",
    "                    lsfilename.append(contentfilename)\n",
    "                    lsfile.append(contentfile)\n",
    "        \n",
    "    dictfile = dict(zip(lsfilename, lsfile))\n",
    "    \n",
    "    return dictfile"
   ]
  },
  {
   "cell_type": "code",
   "execution_count": 6,
   "metadata": {},
   "outputs": [],
   "source": [
    "def write_csv(dictfile: dict) -> None:\n",
    "    \"\"\"Save csv files to tmp folder\"\"\"\n",
    "    tmp_dir = \"../tmp\"\n",
    "    Path(tmp_dir).mkdir(parents=True, exist_ok=True)\n",
    "\n",
    "    for filename, file in dictfile.items():\n",
    "        folder = filename.split(\"_\")[0]\n",
    "        trunc_fn = filename.split(\".\")[0]\n",
    "        output_file = f\"../tmp/{trunc_fn}.csv\"\n",
    "        outfile = open(output_file, \"wb\")\n",
    "        outfile.write(file)\n",
    "        outfile.close()\n",
    "\n",
    "    return"
   ]
  },
  {
   "cell_type": "code",
   "execution_count": 7,
   "metadata": {},
   "outputs": [],
   "source": [
    "def delete_csv(folder: str) -> None:\n",
    "    \"\"\"Remove tmp folder\"\"\"\n",
    "\n",
    "    shutil.rmtree(\"../tmp\")\n",
    "    \n",
    "    return"
   ]
  },
  {
   "cell_type": "code",
   "execution_count": 8,
   "metadata": {},
   "outputs": [],
   "source": [
    "def ingest_noaa(base_url: str) -> None:\n",
    "    \"\"\"Get zip folders from noaa site and save to database\"\"\"\n",
    "\n",
    "    lszip = fetch_folders(base_url)\n",
    "    dictfile = unzip_folder(lszip)\n",
    "    write_csv(dictfile)\n",
    "\n",
    "    return "
   ]
  },
  {
   "cell_type": "code",
   "execution_count": 9,
   "metadata": {},
   "outputs": [],
   "source": [
    "def get_dataset_size(dataset: str) -> None:\n",
    "    \"\"\"Calculate the total size of the files in GB\"\"\"\n",
    "    dataset_size = 0\n",
    "    for file in os.listdir('../tmp/'):\n",
    "        if file.startswith(f'{dataset}'):\n",
    "            dataset_size += os.path.getsize(f'../tmp/{file}') \n",
    "\n",
    "    print(f'{dataset} files size: ' + str(round(dataset_size/(1024**3),2)) + ' GB')\n",
    "    return"
   ]
  },
  {
   "cell_type": "markdown",
   "metadata": {},
   "source": [
    "## Initial Loading"
   ]
  },
  {
   "cell_type": "code",
   "execution_count": 10,
   "metadata": {},
   "outputs": [],
   "source": [
    "base_url = \"https://www.st.nmfs.noaa.gov/st1/recreational/MRIP_Survey_Data/CSV/\"\n",
    "ingest_noaa(base_url)"
   ]
  },
  {
   "cell_type": "code",
   "execution_count": 11,
   "metadata": {},
   "outputs": [
    {
     "name": "stdout",
     "output_type": "stream",
     "text": [
      "catch files size: 1.08 GB\n",
      "size files size: 1.07 GB\n",
      "trip files size: 1.04 GB\n"
     ]
    }
   ],
   "source": [
    "# Get dataset sizes in GB\n",
    "get_dataset_size('catch')\n",
    "get_dataset_size('size')\n",
    "get_dataset_size('trip')"
   ]
  },
  {
   "cell_type": "code",
   "execution_count": 12,
   "metadata": {},
   "outputs": [
    {
     "data": {
      "text/html": [
       "<div>\n",
       "<style scoped>\n",
       "    .dataframe tbody tr th:only-of-type {\n",
       "        vertical-align: middle;\n",
       "    }\n",
       "\n",
       "    .dataframe tbody tr th {\n",
       "        vertical-align: top;\n",
       "    }\n",
       "\n",
       "    .dataframe thead th {\n",
       "        text-align: right;\n",
       "    }\n",
       "</style>\n",
       "<table border=\"1\" class=\"dataframe\">\n",
       "  <thead>\n",
       "    <tr style=\"text-align: right;\">\n",
       "      <th></th>\n",
       "      <th>Count</th>\n",
       "    </tr>\n",
       "  </thead>\n",
       "  <tbody>\n",
       "    <tr>\n",
       "      <th>0</th>\n",
       "      <td>5654240</td>\n",
       "    </tr>\n",
       "  </tbody>\n",
       "</table>\n",
       "</div>"
      ],
      "text/plain": [
       "     Count\n",
       "0  5654240"
      ]
     },
     "execution_count": 12,
     "metadata": {},
     "output_type": "execute_result"
    }
   ],
   "source": [
    "%%sql\n",
    "CREATE TABLE catch AS\n",
    "SELECT * FROM read_csv('../tmp/catch_*.csv', \n",
    "    normalize_names = true,\n",
    "    # ignore_errors = true,\n",
    "    union_by_name = true, \n",
    "    filename =  true, \n",
    "    auto_detect = true,\n",
    "    null_padding = true,\n",
    "    all_varchar = true\n",
    "    );\n"
   ]
  },
  {
   "cell_type": "code",
   "execution_count": 13,
   "metadata": {},
   "outputs": [
    {
     "data": {
      "text/html": [
       "<div>\n",
       "<style scoped>\n",
       "    .dataframe tbody tr th:only-of-type {\n",
       "        vertical-align: middle;\n",
       "    }\n",
       "\n",
       "    .dataframe tbody tr th {\n",
       "        vertical-align: top;\n",
       "    }\n",
       "\n",
       "    .dataframe thead th {\n",
       "        text-align: right;\n",
       "    }\n",
       "</style>\n",
       "<table border=\"1\" class=\"dataframe\">\n",
       "  <thead>\n",
       "    <tr style=\"text-align: right;\">\n",
       "      <th></th>\n",
       "      <th>Count</th>\n",
       "    </tr>\n",
       "  </thead>\n",
       "  <tbody>\n",
       "    <tr>\n",
       "      <th>0</th>\n",
       "      <td>7143915</td>\n",
       "    </tr>\n",
       "  </tbody>\n",
       "</table>\n",
       "</div>"
      ],
      "text/plain": [
       "     Count\n",
       "0  7143915"
      ]
     },
     "execution_count": 13,
     "metadata": {},
     "output_type": "execute_result"
    }
   ],
   "source": [
    "%%sql\n",
    "CREATE TABLE size AS\n",
    "SELECT * FROM read_csv('../tmp/size_*.csv', \n",
    "    normalize_names = true,\n",
    "    # ignore_errors = true,\n",
    "    union_by_name = true, \n",
    "    filename =  true, \n",
    "    auto_detect = true,\n",
    "    null_padding = true,\n",
    "    all_varchar = true\n",
    "    );\n"
   ]
  },
  {
   "cell_type": "code",
   "execution_count": 14,
   "metadata": {},
   "outputs": [
    {
     "data": {
      "text/html": [
       "<div>\n",
       "<style scoped>\n",
       "    .dataframe tbody tr th:only-of-type {\n",
       "        vertical-align: middle;\n",
       "    }\n",
       "\n",
       "    .dataframe tbody tr th {\n",
       "        vertical-align: top;\n",
       "    }\n",
       "\n",
       "    .dataframe thead th {\n",
       "        text-align: right;\n",
       "    }\n",
       "</style>\n",
       "<table border=\"1\" class=\"dataframe\">\n",
       "  <thead>\n",
       "    <tr style=\"text-align: right;\">\n",
       "      <th></th>\n",
       "      <th>Count</th>\n",
       "    </tr>\n",
       "  </thead>\n",
       "  <tbody>\n",
       "    <tr>\n",
       "      <th>0</th>\n",
       "      <td>3638647</td>\n",
       "    </tr>\n",
       "  </tbody>\n",
       "</table>\n",
       "</div>"
      ],
      "text/plain": [
       "     Count\n",
       "0  3638647"
      ]
     },
     "execution_count": 14,
     "metadata": {},
     "output_type": "execute_result"
    }
   ],
   "source": [
    "%%sql\n",
    "CREATE TABLE trip AS\n",
    "SELECT * FROM read_csv('../tmp/trip_*.csv', \n",
    "    normalize_names = true,\n",
    "    # ignore_errors = true,\n",
    "    union_by_name = true, \n",
    "    filename =  true, \n",
    "    auto_detect = true,\n",
    "    null_padding = true,\n",
    "    all_varchar = true\n",
    "    );\n"
   ]
  },
  {
   "cell_type": "code",
   "execution_count": 15,
   "metadata": {},
   "outputs": [],
   "source": [
    "# Delete tmp folder and contents to free up space on local machine\n",
    "delete_csv('../tmp/')"
   ]
  },
  {
   "cell_type": "markdown",
   "metadata": {},
   "source": [
    "## Queries"
   ]
  },
  {
   "cell_type": "code",
   "execution_count": 4,
   "metadata": {},
   "outputs": [],
   "source": [
    " %reload_ext sql"
   ]
  },
  {
   "cell_type": "code",
   "execution_count": 8,
   "metadata": {},
   "outputs": [
    {
     "data": {
      "text/html": [
       "<div>\n",
       "<style scoped>\n",
       "    .dataframe tbody tr th:only-of-type {\n",
       "        vertical-align: middle;\n",
       "    }\n",
       "\n",
       "    .dataframe tbody tr th {\n",
       "        vertical-align: top;\n",
       "    }\n",
       "\n",
       "    .dataframe thead th {\n",
       "        text-align: right;\n",
       "    }\n",
       "</style>\n",
       "<table border=\"1\" class=\"dataframe\">\n",
       "  <thead>\n",
       "    <tr style=\"text-align: right;\">\n",
       "      <th></th>\n",
       "      <th>table_catalog</th>\n",
       "      <th>table_schema</th>\n",
       "      <th>table_name</th>\n",
       "      <th>table_type</th>\n",
       "      <th>self_referencing_column_name</th>\n",
       "      <th>reference_generation</th>\n",
       "      <th>user_defined_type_catalog</th>\n",
       "      <th>user_defined_type_schema</th>\n",
       "      <th>user_defined_type_name</th>\n",
       "      <th>is_insertable_into</th>\n",
       "      <th>is_typed</th>\n",
       "      <th>commit_action</th>\n",
       "    </tr>\n",
       "  </thead>\n",
       "  <tbody>\n",
       "    <tr>\n",
       "      <th>0</th>\n",
       "      <td>noaa_db</td>\n",
       "      <td>main</td>\n",
       "      <td>catch</td>\n",
       "      <td>BASE TABLE</td>\n",
       "      <td>NaN</td>\n",
       "      <td>NaN</td>\n",
       "      <td>NaN</td>\n",
       "      <td>NaN</td>\n",
       "      <td>NaN</td>\n",
       "      <td>YES</td>\n",
       "      <td>NO</td>\n",
       "      <td>None</td>\n",
       "    </tr>\n",
       "    <tr>\n",
       "      <th>1</th>\n",
       "      <td>noaa_db</td>\n",
       "      <td>main</td>\n",
       "      <td>size</td>\n",
       "      <td>BASE TABLE</td>\n",
       "      <td>NaN</td>\n",
       "      <td>NaN</td>\n",
       "      <td>NaN</td>\n",
       "      <td>NaN</td>\n",
       "      <td>NaN</td>\n",
       "      <td>YES</td>\n",
       "      <td>NO</td>\n",
       "      <td>None</td>\n",
       "    </tr>\n",
       "    <tr>\n",
       "      <th>2</th>\n",
       "      <td>noaa_db</td>\n",
       "      <td>main</td>\n",
       "      <td>trip</td>\n",
       "      <td>BASE TABLE</td>\n",
       "      <td>NaN</td>\n",
       "      <td>NaN</td>\n",
       "      <td>NaN</td>\n",
       "      <td>NaN</td>\n",
       "      <td>NaN</td>\n",
       "      <td>YES</td>\n",
       "      <td>NO</td>\n",
       "      <td>None</td>\n",
       "    </tr>\n",
       "    <tr>\n",
       "      <th>3</th>\n",
       "      <td>noaa_db</td>\n",
       "      <td>datawarehouse</td>\n",
       "      <td>stg_noaa_mrip__catches</td>\n",
       "      <td>VIEW</td>\n",
       "      <td>NaN</td>\n",
       "      <td>NaN</td>\n",
       "      <td>NaN</td>\n",
       "      <td>NaN</td>\n",
       "      <td>NaN</td>\n",
       "      <td>NO</td>\n",
       "      <td>NO</td>\n",
       "      <td>None</td>\n",
       "    </tr>\n",
       "  </tbody>\n",
       "</table>\n",
       "</div>"
      ],
      "text/plain": [
       "  table_catalog   table_schema              table_name  table_type  \\\n",
       "0       noaa_db           main                   catch  BASE TABLE   \n",
       "1       noaa_db           main                    size  BASE TABLE   \n",
       "2       noaa_db           main                    trip  BASE TABLE   \n",
       "3       noaa_db  datawarehouse  stg_noaa_mrip__catches        VIEW   \n",
       "\n",
       "   self_referencing_column_name  reference_generation  \\\n",
       "0                           NaN                   NaN   \n",
       "1                           NaN                   NaN   \n",
       "2                           NaN                   NaN   \n",
       "3                           NaN                   NaN   \n",
       "\n",
       "   user_defined_type_catalog  user_defined_type_schema  \\\n",
       "0                        NaN                       NaN   \n",
       "1                        NaN                       NaN   \n",
       "2                        NaN                       NaN   \n",
       "3                        NaN                       NaN   \n",
       "\n",
       "   user_defined_type_name is_insertable_into is_typed commit_action  \n",
       "0                     NaN                YES       NO          None  \n",
       "1                     NaN                YES       NO          None  \n",
       "2                     NaN                YES       NO          None  \n",
       "3                     NaN                 NO       NO          None  "
      ]
     },
     "execution_count": 8,
     "metadata": {},
     "output_type": "execute_result"
    }
   ],
   "source": [
    "%%sql \n",
    "SELECT * FROM INFORMATION_SCHEMA.tables;"
   ]
  },
  {
   "cell_type": "code",
   "execution_count": 44,
   "metadata": {},
   "outputs": [],
   "source": [
    "%sql catch_cols << SELECT COLUMN_NAME FROM INFORMATION_SCHEMA.columns WHERE table_name = 'catch';\n",
    "%sql size_cols << SELECT COLUMN_NAME FROM INFORMATION_SCHEMA.columns WHERE table_name = 'size';\n",
    "%sql trip_cols << SELECT COLUMN_NAME FROM INFORMATION_SCHEMA.columns WHERE table_name = 'trip';"
   ]
  },
  {
   "cell_type": "code",
   "execution_count": 50,
   "metadata": {},
   "outputs": [
    {
     "data": {
      "text/html": [
       "<div>\n",
       "<style scoped>\n",
       "    .dataframe tbody tr th:only-of-type {\n",
       "        vertical-align: middle;\n",
       "    }\n",
       "\n",
       "    .dataframe tbody tr th {\n",
       "        vertical-align: top;\n",
       "    }\n",
       "\n",
       "    .dataframe thead th {\n",
       "        text-align: right;\n",
       "    }\n",
       "</style>\n",
       "<table border=\"1\" class=\"dataframe\">\n",
       "  <thead>\n",
       "    <tr style=\"text-align: right;\">\n",
       "      <th></th>\n",
       "      <th>column_name</th>\n",
       "      <th>column_type</th>\n",
       "      <th>null</th>\n",
       "      <th>key</th>\n",
       "      <th>default</th>\n",
       "      <th>extra</th>\n",
       "    </tr>\n",
       "  </thead>\n",
       "  <tbody>\n",
       "  </tbody>\n",
       "</table>\n",
       "</div>"
      ],
      "text/plain": [
       "Empty DataFrame\n",
       "Columns: [column_name, column_type, null, key, default, extra]\n",
       "Index: []"
      ]
     },
     "execution_count": 50,
     "metadata": {},
     "output_type": "execute_result"
    }
   ],
   "source": [
    "%%sql\n",
    "DESCRIBE noaa_db.size;"
   ]
  },
  {
   "cell_type": "code",
   "execution_count": 7,
   "metadata": {},
   "outputs": [
    {
     "data": {
      "text/html": [
       "<div>\n",
       "<style scoped>\n",
       "    .dataframe tbody tr th:only-of-type {\n",
       "        vertical-align: middle;\n",
       "    }\n",
       "\n",
       "    .dataframe tbody tr th {\n",
       "        vertical-align: top;\n",
       "    }\n",
       "\n",
       "    .dataframe thead th {\n",
       "        text-align: right;\n",
       "    }\n",
       "</style>\n",
       "<table border=\"1\" class=\"dataframe\">\n",
       "  <thead>\n",
       "    <tr style=\"text-align: right;\">\n",
       "      <th></th>\n",
       "      <th>Success</th>\n",
       "    </tr>\n",
       "  </thead>\n",
       "  <tbody>\n",
       "  </tbody>\n",
       "</table>\n",
       "</div>"
      ],
      "text/plain": [
       "Empty DataFrame\n",
       "Columns: [Success]\n",
       "Index: []"
      ]
     },
     "execution_count": 7,
     "metadata": {},
     "output_type": "execute_result"
    }
   ],
   "source": [
    "%%sql\n",
    "DROP VIEW noaa_db.main.stg_noaa_mrip__catches"
   ]
  },
  {
   "cell_type": "code",
   "execution_count": null,
   "metadata": {},
   "outputs": [],
   "source": []
  }
 ],
 "metadata": {
  "kernelspec": {
   "display_name": "noaa_eda",
   "language": "python",
   "name": "python3"
  },
  "language_info": {
   "codemirror_mode": {
    "name": "ipython",
    "version": 3
   },
   "file_extension": ".py",
   "mimetype": "text/x-python",
   "name": "python",
   "nbconvert_exporter": "python",
   "pygments_lexer": "ipython3",
   "version": "3.11.7"
  }
 },
 "nbformat": 4,
 "nbformat_minor": 2
}
