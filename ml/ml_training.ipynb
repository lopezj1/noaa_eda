{
 "cells": [
  {
   "cell_type": "markdown",
   "metadata": {},
   "source": [
    "# To-Do\n",
    "- pipreqs to update requirements.txt\n",
    "- naive bayes outperforming catboost\n",
    "- cast features as category dtype before training catboost\n",
    "- engineer categorical features from 'number_of_outings_in_last_year' and 'trip_fishing_effort_hours'\n",
    "- re-evaluate models after adding new features -> look at feature importance on catboost model"
   ]
  },
  {
   "cell_type": "code",
   "execution_count": 30,
   "metadata": {},
   "outputs": [],
   "source": [
    "import duckdb\n",
    "from pathlib import Path\n",
    "from catboost import CatBoostClassifier, Pool\n",
    "from catboost.utils import get_confusion_matrix\n",
    "from sklearn.naive_bayes import CategoricalNB\n",
    "from sklearn.model_selection import train_test_split\n",
    "from sklearn.preprocessing import OrdinalEncoder\n",
    "from sklearn.metrics import accuracy_score, confusion_matrix, classification_report, f1_score"
   ]
  },
  {
   "cell_type": "code",
   "execution_count": 8,
   "metadata": {},
   "outputs": [],
   "source": [
    "#constants\n",
    "SCHEMA = 'analytics'\n",
    "DUCKDB_PATH = str(Path().resolve().parent / \"data/noaa_dw.duckdb\")"
   ]
  },
  {
   "cell_type": "code",
   "execution_count": 9,
   "metadata": {},
   "outputs": [],
   "source": [
    "#Database Connection and Query\n",
    "with duckdb.connect(DUCKDB_PATH) as con:\n",
    "    query = f\"\"\"\n",
    "            SELECT\n",
    "            fish_caught_time_of_day,\n",
    "            trip_month_name,\n",
    "            us_region,\n",
    "            nautical_zone,\n",
    "            fishing_method_collapsed,\n",
    "            --number_of_outings_in_last_year,\n",
    "            --trip_fishing_effort_hours,\n",
    "            caught\n",
    "            FROM\n",
    "            {SCHEMA}.trip_details\n",
    "            \"\"\"\n",
    "    df = con.sql(query).df() #materialize into pandas dataframe"
   ]
  },
  {
   "cell_type": "code",
   "execution_count": 10,
   "metadata": {},
   "outputs": [],
   "source": [
    "#Preprocessing\n",
    "df = df.dropna() #drop any rows that have NaNs"
   ]
  },
  {
   "cell_type": "code",
   "execution_count": 11,
   "metadata": {},
   "outputs": [],
   "source": [
    "categorical_features = ['fish_caught_time_of_day',\n",
    "                        'trip_month_name',\n",
    "                        'us_region',\n",
    "                        'nautical_zone',\n",
    "                        'fishing_method_collapsed']"
   ]
  },
  {
   "cell_type": "code",
   "execution_count": null,
   "metadata": {},
   "outputs": [],
   "source": [
    "#Define Features and Label\n",
    "X = df.drop(labels='caught', axis=1)\n",
    "y = df['caught']\n",
    "\n",
    "#Encoding\n",
    "encoder = OrdinalEncoder()\n",
    "X = encoder.fit_transform(X)"
   ]
  },
  {
   "cell_type": "code",
   "execution_count": 5,
   "metadata": {},
   "outputs": [],
   "source": [
    "#Split data into training and test sets\n",
    "X_train, X_test, y_train, y_test = train_test_split(X, y, test_size=0.2, random_state=42)"
   ]
  },
  {
   "cell_type": "code",
   "execution_count": null,
   "metadata": {},
   "outputs": [],
   "source": [
    "#Baseline Model - Categorical Naive Bayes\n",
    "nb_clf = CategoricalNB()\n",
    "nb_clf.fit(X_train, y_train)\n",
    "y_pred = nb_clf.predict(X_test)\n",
    "print(classification_report(y_test, y_pred))\n",
    "print(confusion_matrix(y_test, y_pred))\n",
    "print(f1_score(y_test, y_pred, average='weighted'))"
   ]
  },
  {
   "cell_type": "code",
   "execution_count": 31,
   "metadata": {},
   "outputs": [
    {
     "name": "stdout",
     "output_type": "stream",
     "text": [
      "0:\tlearn: 0.6007155\ttotal: 15.5ms\tremaining: 15.5ms\n",
      "1:\tlearn: 0.5862046\ttotal: 31.8ms\tremaining: 0us\n",
      "['fish_caught_time_of_day', 'trip_month_name', 'us_region', 'nautical_zone', 'fishing_method_collapsed']\n",
      "[ 0.          0.         22.33486244  0.         77.66513756]\n",
      "{'learn': {'Logloss': 0.5862046213959327}}\n",
      "0.6874655389309708\n",
      "[[378314.  79817.]\n",
      " [153457. 135629.]]\n"
     ]
    }
   ],
   "source": [
    "#Alternate Model - CatBoost\n",
    "#Define Features and Label\n",
    "X = df.drop(labels='caught', axis=1)\n",
    "y = df['caught']\n",
    "\n",
    "#Split data into training and test sets\n",
    "X_train, X_test, y_train, y_test = train_test_split(X, y, test_size=0.2, random_state=42)\n",
    "\n",
    "model = CatBoostClassifier(iterations=2,\n",
    "                           depth=2,\n",
    "                           learning_rate=1,\n",
    "                           loss_function='Logloss',\n",
    "                           verbose=True)\n",
    "\n",
    "model.fit(X_train, y_train)\n",
    "print(model.feature_names_)\n",
    "print(model.get_feature_importance())\n",
    "print(model.best_score_)\n",
    "print(model.score(X_test, y_test))\n",
    "print(get_confusion_matrix(model, Pool(X_train, y_train)))\n"
   ]
  }
 ],
 "metadata": {
  "kernelspec": {
   "display_name": ".venv",
   "language": "python",
   "name": "python3"
  },
  "language_info": {
   "codemirror_mode": {
    "name": "ipython",
    "version": 3
   },
   "file_extension": ".py",
   "mimetype": "text/x-python",
   "name": "python",
   "nbconvert_exporter": "python",
   "pygments_lexer": "ipython3",
   "version": "3.11.10"
  }
 },
 "nbformat": 4,
 "nbformat_minor": 2
}
